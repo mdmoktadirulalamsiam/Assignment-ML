{
 "cells": [
  {
   "cell_type": "code",
   "execution_count": 5,
   "id": "06f545e8-e83b-475b-9f2b-75fa177f935f",
   "metadata": {},
   "outputs": [
    {
     "name": "stdout",
     "output_type": "stream",
     "text": [
      "20\n",
      "10\n"
     ]
    }
   ],
   "source": [
    "#Write a program that swaps the value of the values of two variables(problem number 01)\n",
    "\n",
    "x=10\n",
    "y=20\n",
    "print(y)\n",
    "print(x)"
   ]
  },
  {
   "cell_type": "code",
   "execution_count": 4,
   "id": "e87c5ceb-c902-4205-9d6d-83cdff427358",
   "metadata": {},
   "outputs": [
    {
     "name": "stdout",
     "output_type": "stream",
     "text": [
      "200\n"
     ]
    }
   ],
   "source": [
    "#Write a program that calculates the area of a rectangle given its length and width(problem number 02)\n",
    "\n",
    "Length=20\n",
    "Width=10\n",
    "Area= Length*Width\n",
    "print(Area)"
   ]
  },
  {
   "cell_type": "code",
   "execution_count": 6,
   "id": "fa08fb71-48e2-46d9-9ec3-c6694ba9d1e5",
   "metadata": {},
   "outputs": [
    {
     "name": "stdout",
     "output_type": "stream",
     "text": [
      "23.88888888888889\n"
     ]
    }
   ],
   "source": [
    "#Write a program that convert the temperature from Fahrenheit to Celsius(problem nuumber 03)\n",
    "\n",
    "F=75\n",
    "C=((F-32)*5)/9\n",
    "\n",
    "print(C)"
   ]
  },
  {
   "cell_type": "code",
   "execution_count": 5,
   "id": "f03806a1-0f1e-4e6d-873a-ebfa18e5884b",
   "metadata": {},
   "outputs": [
    {
     "name": "stdout",
     "output_type": "stream",
     "text": [
      "20.94395102393195\n"
     ]
    }
   ],
   "source": [
    "#Write a program that calculates the volume of a sphere given its radius(problem number 04)\n",
    "\n",
    "from math import pi\n",
    "radius=6\n",
    "volume= (4/3)*pi*(radius^3)\n",
    "print(volume)"
   ]
  },
  {
   "cell_type": "code",
   "execution_count": 7,
   "id": "4389cb6c-78af-4019-8cdf-8f1fdd84b35d",
   "metadata": {},
   "outputs": [
    {
     "name": "stdout",
     "output_type": "stream",
     "text": [
      "40.666666666666664\n"
     ]
    }
   ],
   "source": [
    "#Write a program that finds the average three numbers(problem number(problem number 05)\n",
    "\n",
    "a=9\n",
    "b=16\n",
    "c=97\n",
    "average=(a+b+c)/3\n",
    "print(average)"
   ]
  },
  {
   "cell_type": "code",
   "execution_count": 4,
   "id": "b1ad0dc7-7f06-4843-9964-393cc5dd7cf8",
   "metadata": {},
   "outputs": [
    {
     "name": "stdout",
     "output_type": "stream",
     "text": [
      "The number is odd\n"
     ]
    }
   ],
   "source": [
    "#Write a program that determines if a number is even or odd(problem number 06)\n",
    "\n",
    "number= 15\n",
    "if(number/2)==0:\n",
    "    print('The number is even')\n",
    "else:\n",
    "    print('The number is odd')\n",
    "   "
   ]
  },
  {
   "cell_type": "code",
   "execution_count": 9,
   "id": "430f2d2d-4b27-4d3c-b2af-0d87ae22b638",
   "metadata": {},
   "outputs": [
    {
     "name": "stdout",
     "output_type": "stream",
     "text": [
      "third_number is the largest number\n"
     ]
    }
   ],
   "source": [
    "#Write a program that finds the maximum of three numbers(problem number 07)\n",
    "\n",
    "first_number=7\n",
    "second_number=9\n",
    "third_number=11\n",
    "if (first_number>second_number and first_number>third_number):\n",
    "    print('first_number is the largest number')\n",
    "elif (second_number>first_number and second_number>third_number):\n",
    "    print('second_number is the largest number')\n",
    "else:\n",
    "    print('third_number is the largest number')"
   ]
  },
  {
   "cell_type": "code",
   "execution_count": 12,
   "id": "fded29b0-d8d4-4942-8f3b-292c0cc314ee",
   "metadata": {},
   "outputs": [
    {
     "name": "stdout",
     "output_type": "stream",
     "text": [
      "This year is not a leap year\n"
     ]
    }
   ],
   "source": [
    "#Write a program that determines if a year is a leap year or not(problem number 08)\n",
    "\n",
    "year=2017\n",
    "if(year/4)==0:\n",
    "    print('This year is a leap year')\n",
    "else:\n",
    "    print('This year is not a leap year')"
   ]
  },
  {
   "cell_type": "code",
   "execution_count": 18,
   "id": "02a15415-3cff-4c56-b4cb-d78b6b86bbde",
   "metadata": {},
   "outputs": [
    {
     "name": "stdout",
     "output_type": "stream",
     "text": [
      "This number is negetive\n"
     ]
    }
   ],
   "source": [
    "#Write a program that determines if an number is positive,negative or zero(problem number 09)\n",
    "\n",
    "number=-15\n",
    "if number>0:\n",
    "    print('This number is positive')\n",
    "elif number==0:\n",
    "    print('This number is Zero')\n",
    "else:\n",
    "    print('This number is negetive')"
   ]
  },
  {
   "cell_type": "code",
   "execution_count": null,
   "id": "cd82c4a7-8a15-44a5-b82f-650d031f11a6",
   "metadata": {},
   "outputs": [],
   "source": [
    "#Write a program that calculates the grade based on a given percentage(problem 10)\n",
    "\n"
   ]
  },
  {
   "cell_type": "code",
   "execution_count": null,
   "id": "d8458d2a-a798-4ecb-9b2c-85bcea554ab4",
   "metadata": {},
   "outputs": [],
   "source": []
  },
  {
   "cell_type": "code",
   "execution_count": null,
   "id": "128f4e4e-cdab-4c3e-a364-f00ea10b5c19",
   "metadata": {},
   "outputs": [],
   "source": []
  },
  {
   "cell_type": "code",
   "execution_count": null,
   "id": "3adc148c-6098-4a55-9d47-139424dbc79e",
   "metadata": {},
   "outputs": [],
   "source": []
  },
  {
   "cell_type": "code",
   "execution_count": null,
   "id": "fc3f6931-d678-4272-80f5-77c91a75a5f4",
   "metadata": {},
   "outputs": [],
   "source": []
  },
  {
   "cell_type": "code",
   "execution_count": null,
   "id": "79f615b5-1735-4b42-9264-3d3519840412",
   "metadata": {},
   "outputs": [],
   "source": []
  },
  {
   "cell_type": "code",
   "execution_count": null,
   "id": "0d2efc93-440b-43c6-aacc-f25369ac6910",
   "metadata": {},
   "outputs": [],
   "source": []
  },
  {
   "cell_type": "code",
   "execution_count": null,
   "id": "d880b307-38a8-4355-8872-270b2077329d",
   "metadata": {},
   "outputs": [],
   "source": []
  },
  {
   "cell_type": "code",
   "execution_count": null,
   "id": "ef9189db-7447-4cdd-9829-f8aa6590cf36",
   "metadata": {},
   "outputs": [],
   "source": []
  }
 ],
 "metadata": {
  "kernelspec": {
   "display_name": "Python 3 (ipykernel)",
   "language": "python",
   "name": "python3"
  },
  "language_info": {
   "codemirror_mode": {
    "name": "ipython",
    "version": 3
   },
   "file_extension": ".py",
   "mimetype": "text/x-python",
   "name": "python",
   "nbconvert_exporter": "python",
   "pygments_lexer": "ipython3",
   "version": "3.11.7"
  }
 },
 "nbformat": 4,
 "nbformat_minor": 5
}
